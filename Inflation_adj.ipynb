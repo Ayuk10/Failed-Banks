{
 "cells": [
  {
   "cell_type": "code",
   "execution_count": 21,
   "id": "bb490729",
   "metadata": {},
   "outputs": [],
   "source": [
    "import pandas as pd\n",
    "import cpi\n",
    "from skimpy import clean_columns\n",
    "from datetime import date"
   ]
  },
  {
   "cell_type": "code",
   "execution_count": 3,
   "id": "86677bbb",
   "metadata": {},
   "outputs": [],
   "source": [
    "cpi.update()"
   ]
  },
  {
   "cell_type": "code",
   "execution_count": 22,
   "id": "e5743d63",
   "metadata": {},
   "outputs": [],
   "source": [
    "df = pd.read_csv('merged_file.csv')"
   ]
  },
  {
   "cell_type": "code",
   "execution_count": 23,
   "id": "9258b415",
   "metadata": {
    "scrolled": true
   },
   "outputs": [
    {
     "data": {
      "text/html": [
       "<pre style=\"white-space:pre;overflow-x:auto;line-height:normal;font-family:Menlo,'DejaVu Sans Mono',consolas,'Courier New',monospace\"><span style=\"color: #008080; text-decoration-color: #008080; font-weight: bold\">11</span> column names have been cleaned\n",
       "</pre>\n"
      ],
      "text/plain": [
       "\u001b[1;36m11\u001b[0m column names have been cleaned\n"
      ]
     },
     "metadata": {},
     "output_type": "display_data"
    }
   ],
   "source": [
    "# clean columns\n",
    "df = clean_columns(df)"
   ]
  },
  {
   "cell_type": "code",
   "execution_count": 24,
   "id": "7a3fbfdc",
   "metadata": {},
   "outputs": [],
   "source": [
    "# Convert the 'Closing Date' column to datetime\n",
    "df['Year'] = pd.to_datetime(df['closing_date'], format='%d-%b-%y')"
   ]
  },
  {
   "cell_type": "code",
   "execution_count": 27,
   "id": "ccad7439",
   "metadata": {},
   "outputs": [],
   "source": [
    "# Convert the 'Closing Date' column to datetime\n",
    "df['Year'] = pd.to_datetime(df['Year'], format='%Y')"
   ]
  },
  {
   "cell_type": "code",
   "execution_count": 28,
   "id": "c86e025d",
   "metadata": {},
   "outputs": [
    {
     "name": "stderr",
     "output_type": "stream",
     "text": [
      "/var/folders/yp/8z8rglc91l55828y91ptx4dr0000gn/T/ipykernel_76329/2916092983.py:2: FutureWarning: The default value of regex will change from True to False in a future version. In addition, single character regular expressions will *not* be treated as literal strings when regex=True.\n",
      "  df['approx_asset_millions'] = df['approx_asset_millions'].str.replace('$','').str.replace(',','').str.replace('.','')\n",
      "/var/folders/yp/8z8rglc91l55828y91ptx4dr0000gn/T/ipykernel_76329/2916092983.py:3: FutureWarning: The default value of regex will change from True to False in a future version. In addition, single character regular expressions will *not* be treated as literal strings when regex=True.\n",
      "  df['approx_deposit_millions'] = df['approx_deposit_millions'].str.replace('$','').str.replace(',','').str.replace('.','')\n"
     ]
    }
   ],
   "source": [
    "# removing the $ from \"Asset\" and \"Deposite\" columns\n",
    "df['approx_asset_millions'] = df['approx_asset_millions'].str.replace('$','').str.replace(',','').str.replace('.','')\n",
    "df['approx_deposit_millions'] = df['approx_deposit_millions'].str.replace('$','').str.replace(',','').str.replace('.','')"
   ]
  },
  {
   "cell_type": "code",
   "execution_count": 29,
   "id": "294d1e77",
   "metadata": {},
   "outputs": [],
   "source": [
    "# Convert the 'Asset' and 'Deposit' columns to integers\n",
    "df['approx_asset_millions'] = df['approx_asset_millions'].astype(int)\n",
    "df['approx_deposit_millions'] = df['approx_deposit_millions'].astype(int)"
   ]
  },
  {
   "cell_type": "code",
   "execution_count": 30,
   "id": "aca11336",
   "metadata": {},
   "outputs": [],
   "source": [
    "# only the year from \"Year\"\n",
    "df['year'] = df['Year'].apply(lambda x: pd.to_datetime(x).year)\n"
   ]
  },
  {
   "cell_type": "code",
   "execution_count": 31,
   "id": "62c64442",
   "metadata": {},
   "outputs": [],
   "source": [
    "# Create new columns for inflation-adjusted 'Deposit' values\n",
    "def inflate_asset(row):\n",
    "    if row['Year'].year == 2023:\n",
    "        return row['approx_deposit_millions']\n",
    "    else:\n",
    "        try:\n",
    "            return cpi.inflate(row['approx_deposit_millions'], row['Year'].year)\n",
    "        except CPIObjectDoesNotExist:\n",
    "            return np.nan\n",
    "\n",
    "df['Inflation-Adjusted_Deposite'] = df.apply(inflate_asset, axis=1)\n"
   ]
  },
  {
   "cell_type": "code",
   "execution_count": 32,
   "id": "7cb35bb6",
   "metadata": {},
   "outputs": [],
   "source": [
    "# Create new columns for inflation-adjusted 'Assets' values\n",
    "def inflate_asset(row):\n",
    "    if row['Year'].year == 2023:\n",
    "        return row['approx_asset_millions']\n",
    "    else:\n",
    "        try:\n",
    "            return cpi.inflate(row['approx_asset_millions'], row['Year'].year)\n",
    "        except CPIObjectDoesNotExist:\n",
    "            return np.nan\n",
    "\n",
    "df['Inflation-Adjusted_Asset'] = df.apply(inflate_asset, axis=1)\n"
   ]
  },
  {
   "cell_type": "code",
   "execution_count": 35,
   "id": "f227b790",
   "metadata": {},
   "outputs": [],
   "source": [
    "df.to_csv('inflation_adjusted.csv', index=False)"
   ]
  }
 ],
 "metadata": {
  "kernelspec": {
   "display_name": "Python 3 (ipykernel)",
   "language": "python",
   "name": "python3"
  },
  "language_info": {
   "codemirror_mode": {
    "name": "ipython",
    "version": 3
   },
   "file_extension": ".py",
   "mimetype": "text/x-python",
   "name": "python",
   "nbconvert_exporter": "python",
   "pygments_lexer": "ipython3",
   "version": "3.9.13"
  }
 },
 "nbformat": 4,
 "nbformat_minor": 5
}
