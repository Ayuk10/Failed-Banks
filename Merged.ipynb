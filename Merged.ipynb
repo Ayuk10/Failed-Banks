{
 "cells": [
  {
   "cell_type": "code",
   "execution_count": 1,
   "id": "f4c84217",
   "metadata": {},
   "outputs": [],
   "source": [
    "import pandas as pd"
   ]
  },
  {
   "cell_type": "code",
   "execution_count": 26,
   "id": "41673dea",
   "metadata": {},
   "outputs": [],
   "source": [
    "df = pd.read_csv(\"banklist.csv\",encoding='latin1')\n",
    "df1 = pd.read_csv(\"bfb-data.csv\",encoding='latin1')"
   ]
  },
  {
   "cell_type": "code",
   "execution_count": 28,
   "id": "8102deee",
   "metadata": {},
   "outputs": [],
   "source": [
    "# Merge the DataFrames\n",
    "df_merged = pd.merge(df, df1, how='inner', left_index=True,\n",
    "                     right_index=True, suffixes=('', '_remove'))"
   ]
  },
  {
   "cell_type": "code",
   "execution_count": 29,
   "id": "415dcd7d",
   "metadata": {},
   "outputs": [],
   "source": [
    "# remove the duplicate columns\n",
    "df_merged.drop([i for i in df_merged.columns if 'remove' in i],\n",
    "               axis=1, inplace=True)"
   ]
  },
  {
   "cell_type": "code",
   "execution_count": 33,
   "id": "8f079b69",
   "metadata": {},
   "outputs": [],
   "source": [
    "#drop unwanted columns\n",
    "df_merged.drop(['Closing Date', 'Bank Name, City, State'], axis=1, inplace= True)"
   ]
  },
  {
   "cell_type": "code",
   "execution_count": 35,
   "id": "bdc8a2cc",
   "metadata": {},
   "outputs": [],
   "source": [
    "df_merged.to_csv('merged_file.csv', index=False)"
   ]
  }
 ],
 "metadata": {
  "kernelspec": {
   "display_name": "Python 3 (ipykernel)",
   "language": "python",
   "name": "python3"
  },
  "language_info": {
   "codemirror_mode": {
    "name": "ipython",
    "version": 3
   },
   "file_extension": ".py",
   "mimetype": "text/x-python",
   "name": "python",
   "nbconvert_exporter": "python",
   "pygments_lexer": "ipython3",
   "version": "3.9.13"
  }
 },
 "nbformat": 4,
 "nbformat_minor": 5
}
